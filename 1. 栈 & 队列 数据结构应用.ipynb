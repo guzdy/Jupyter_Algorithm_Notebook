{
 "cells": [
  {
   "cell_type": "markdown",
   "metadata": {},
   "source": [
    "# 队列"
   ]
  },
  {
   "cell_type": "markdown",
   "metadata": {},
   "source": [
    "## 括号匹配"
   ]
  },
  {
   "cell_type": "code",
   "execution_count": 14,
   "metadata": {},
   "outputs": [
    {
     "name": "stdout",
     "output_type": "stream",
     "text": [
      "EXPR-1 match: False\n",
      "EXPR-2 match: True\n"
     ]
    }
   ],
   "source": [
    "LEFT = ['{', '[', '(']\n",
    "RIGHT = ['}', ']', ')']\n",
    "\n",
    "def match(expr):\n",
    "    stack = []\n",
    "    for i in expr:\n",
    "        if i in LEFT:\n",
    "            stack.append(i)\n",
    "        elif i in RIGHT:\n",
    "            if not stack or stack.pop() != LEFT[RIGHT.index(i)]:\n",
    "                return False\n",
    "    return not stack\n",
    "\n",
    "expr1 = '[(范德萨范德萨){(范德萨发发范德萨范德萨]}]'\n",
    "expr2 = '[(范德萨发生大){()(发放的萨芬)}]'\n",
    "print('EXPR-1 match:',match(expr1))\n",
    "print('EXPR-2 match:',match(expr2))"
   ]
  },
  {
   "cell_type": "markdown",
   "metadata": {},
   "source": [
    "## 迷宫问题"
   ]
  },
  {
   "cell_type": "code",
   "execution_count": 67,
   "metadata": {},
   "outputs": [
    {
     "name": "stdout",
     "output_type": "stream",
     "text": [
      "Create Maze:\n",
      "[[1, 1, 1, 1, 1, 1, 1],\n",
      " [1, 0, 0, 1, 0, 0, 1],\n",
      " [1, 1, 0, 0, 0, 1, 1],\n",
      " [1, 0, 0, 1, 1, 0, 1],\n",
      " [1, 0, 1, 0, 0, 0, 1],\n",
      " [1, 0, 0, 0, 1, 0, 1],\n",
      " [1, 1, 1, 1, 1, 1, 1]]\n",
      "Create Maze:\n",
      "[[1, 1, 1, 1, 1, 1, 1],\n",
      " [1, 0, 0, 1, 0, 0, 1],\n",
      " [1, 1, 0, 0, 0, 1, 1],\n",
      " [1, 0, 0, 1, 1, 0, 1],\n",
      " [1, 0, 1, 0, 0, 0, 1],\n",
      " [1, 0, 0, 0, 1, 0, 1],\n",
      " [1, 1, 1, 1, 1, 1, 1]]\n",
      "[(1, 1)]\n",
      "[(1, 1), (1, 2)]\n",
      "[(1, 1), (1, 2), (2, 2)]\n",
      "[(1, 1), (1, 2), (2, 2), (2, 3)]\n",
      "[(1, 1), (1, 2), (2, 2), (2, 3), (2, 4)]\n",
      "[(1, 1), (1, 2), (2, 2), (2, 3), (2, 4), (1, 4)]\n",
      "[(1, 1), (1, 2), (2, 2), (2, 3), (2, 4), (1, 4), (1, 5)]\n",
      "[(1, 1), (1, 2), (2, 2), (2, 3), (2, 4), (1, 4)]\n",
      "[(1, 1), (1, 2), (2, 2), (2, 3), (2, 4)]\n",
      "[(1, 1), (1, 2), (2, 2), (2, 3)]\n",
      "[(1, 1), (1, 2), (2, 2)]\n",
      "[(1, 1), (1, 2), (2, 2), (3, 2)]\n",
      "[(1, 1), (1, 2), (2, 2), (3, 2), (3, 1)]\n",
      "[(1, 1), (1, 2), (2, 2), (3, 2), (3, 1), (4, 1)]\n",
      "[(1, 1), (1, 2), (2, 2), (3, 2), (3, 1), (4, 1), (5, 1)]\n",
      "[(1, 1), (1, 2), (2, 2), (3, 2), (3, 1), (4, 1), (5, 1), (5, 2)]\n",
      "[(1, 1), (1, 2), (2, 2), (3, 2), (3, 1), (4, 1), (5, 1), (5, 2), (5, 3)]\n",
      "[(1, 1), (1, 2), (2, 2), (3, 2), (3, 1), (4, 1), (5, 1), (5, 2), (5, 3), (4, 3)]\n",
      "[(1, 1), (1, 2), (2, 2), (3, 2), (3, 1), (4, 1), (5, 1), (5, 2), (5, 3), (4, 3), (4, 4)]\n",
      "[(1, 1), (1, 2), (2, 2), (3, 2), (3, 1), (4, 1), (5, 1), (5, 2), (5, 3), (4, 3), (4, 4), (4, 5)]\n",
      "[(1, 1), (1, 2), (2, 2), (3, 2), (3, 1), (4, 1), (5, 1), (5, 2), (5, 3), (4, 3), (4, 4), (4, 5), (3, 5)]\n",
      "[(1, 1), (1, 2), (2, 2), (3, 2), (3, 1), (4, 1), (5, 1), (5, 2), (5, 3), (4, 3), (4, 4), (4, 5)]\n",
      "[(1, 1), (1, 2), (2, 2), (3, 2), (3, 1), (4, 1), (5, 1), (5, 2), (5, 3), (4, 3), (4, 4), (4, 5), (5, 5)]\n",
      "[(1, 1), (1, 2), (2, 2), (3, 2), (3, 1), (4, 1), (5, 1), (5, 2), (5, 3), (4, 3), (4, 4), (4, 5), (5, 5)]\n"
     ]
    }
   ],
   "source": [
    "from pprint import pprint\n",
    "\n",
    "def initMaze():\n",
    "    maze = [[0 for _ in range(7)] for _ in range(7)]\n",
    "    # 修外墙\n",
    "    for i in range(7):\n",
    "        maze[0][i] = 1\n",
    "        maze[i][0] = 1\n",
    "        maze[-1][i] = 1\n",
    "        maze[i][-1] = 1\n",
    "    # 内墙编号\n",
    "    walls = [ \n",
    "             (1, 3),\n",
    "             (2, 1), (2, 5),\n",
    "             (3, 3), (3, 4),\n",
    "             (4, 2), \n",
    "             (5, 4)\n",
    "             ]\n",
    "    # 修内墙\n",
    "    for i in walls:\n",
    "        maze[i[0]][i[1]] = 1\n",
    "    \n",
    "    print('Create Maze:')\n",
    "    pprint(maze)\n",
    "    \"\"\"\n",
    "    [[1, 1, 1, 1, 1, 1, 1],\n",
    "     [1, 0, 0, 1, 0, 0, 1],\n",
    "     [1, 1, 0, 0, 0, 1, 1],\n",
    "     [1, 0, 0, 1, 1, 0, 1],\n",
    "     [1, 0, 1, 0, 0, 0, 1],\n",
    "     [1, 0, 0, 0, 1, 0, 1],\n",
    "     [1, 1, 1, 1, 1, 1, 1]]\n",
    "    \"\"\"\n",
    "    return maze\n",
    "    \n",
    "maze = initMaze()\n",
    "\n",
    "def get_wall_coordinate(maze):\n",
    "    wall = []\n",
    "    length = len(maze)\n",
    "    width = len(maze[0])\n",
    "    for i in range(length):\n",
    "        for j in range(width):\n",
    "            if maze[i][j]:\n",
    "                wall.append((i,j))\n",
    "    return wall\n",
    "    \n",
    "    \n",
    "def path(maze, start, end):\n",
    "    \"\"\"\n",
    "    :param maze: 迷宫\n",
    "    :param start: 起始点\n",
    "    :param end: 结束点\n",
    "    :return: 行走的每个点\n",
    "    \"\"\"\n",
    "    i, j = start # 分解起始点的坐标\n",
    "    ei, ej = end # 分解结束点的左边\n",
    "    stack = [(i, j)] # 创建一个栈，并让老鼠站到起始点的位置\n",
    "    maze[i][j] = 1 # 走过的路置为1, 是个虚拟墙，stack 退回去还可以退回来。\n",
    "    while stack: # 栈不为空的时候继续走，否则退出\n",
    "        print(stack)\n",
    "        i, j = stack[-1] # 获取当前老鼠所站的位置点\n",
    "        if (i, j) == (ei, ej): break # 如果老鼠找到了出口\n",
    "        for di, dj in [(0, -1), (0, 1), (-1, 0), (1, 0)]: # 左右上下\n",
    "            if maze[i + di][j + dj] == 0: # 如果当前点可走\n",
    "                maze[i + di][j + dj] = 1 # 把当前点置为1\n",
    "                stack.append((i + di, j + dj)) # 把当前的位置添加到栈里面\n",
    "                break\n",
    "        else: # 如果所有的点都不可走\n",
    "            stack.pop() # 退回上一步\n",
    "    return stack # 如果迷宫不能走则返回空栈\n",
    "Maze = initMaze() # 初始化迷宫\n",
    "result = path(maze=Maze, start=(1, 1), end=(5, 5)) # 老鼠开始走迷宫\n",
    "print(result)"
   ]
  },
  {
   "cell_type": "markdown",
   "metadata": {},
   "source": [
    "## 后缀表达式求值"
   ]
  },
  {
   "cell_type": "code",
   "execution_count": 77,
   "metadata": {},
   "outputs": [
    {
     "name": "stdout",
     "output_type": "stream",
     "text": [
      "14\n"
     ]
    }
   ],
   "source": [
    "operators = { # 运算符操作表\n",
    " '+': lambda op1, op2: op1 + op2,\n",
    " '-': lambda op1, op2: op1 - op2,\n",
    " '*': lambda op1, op2: op1 * op2,\n",
    " '/': lambda op1, op2: op1 / op2,\n",
    "}\n",
    "\n",
    "def evalPostfix(e):\n",
    "    \"\"\"\n",
    "    :param e: 后缀表达式\n",
    "    :return: 正常情况下栈内的第一个元素就是计算好之后的值\n",
    "    \"\"\"\n",
    "    tokens = e.split()\n",
    "    stack = []\n",
    "    \n",
    "    for token in tokens:\n",
    "        if token.isdigit():\n",
    "            stack.append(int(token))\n",
    "        elif token in operators.keys():\n",
    "            f = operators[token] # 返回操作符函数\n",
    "            stack.append(f(stack.pop(), stack.pop()))\n",
    "    return stack.pop()\n",
    "\n",
    "result = evalPostfix('2 3 4 * +')\n",
    "print(result)"
   ]
  },
  {
   "cell_type": "markdown",
   "metadata": {},
   "source": [
    "## 背包问题"
   ]
  },
  {
   "cell_type": "code",
   "execution_count": 91,
   "metadata": {},
   "outputs": [
    {
     "name": "stdout",
     "output_type": "stream",
     "text": [
      "[0, 2, 3, 5]\n",
      "[0, 2, 4]\n",
      "[1, 5]\n",
      "[3, 4, 5]\n"
     ]
    }
   ],
   "source": [
    "def knapsack(t, w):\n",
    "    \"\"\"\n",
    "    :param t: 背包总容量\n",
    "    :param w: 物品重量列表\n",
    "    :return:\n",
    "    \"\"\"\n",
    "    stack = []\n",
    "    n = len(w)\n",
    "    k = 0 # 当前所选择的物品游标\n",
    "    while stack or k < n: # 栈不为空或者k<n\n",
    "        \n",
    "        while t > 0 and k < n: # 还有剩余空间并且有物品可装\n",
    "            if t >= w[k]: # 剩余空间大于等于当前物品重量\n",
    "                stack.append(k) # 把物品装备背包\n",
    "                t -= w[k] # 背包空间减少\n",
    "            k += 1 # 继续向后找\n",
    "        if t == 0:\n",
    "            print(stack)\n",
    "        # 回退进程，找到或未找到都回退进程，游标侠义\n",
    "        k = stack.pop() # 把最后一个物品拿出来\n",
    "        t += w[k] # 背包空间增加\n",
    "        k += 1 # 装入下一个物品\n",
    "knapsack(10, [1, 8, 4, 3, 5, 2])"
   ]
  },
  {
   "cell_type": "markdown",
   "metadata": {
    "collapsed": true
   },
   "source": [
    "# 栈"
   ]
  },
  {
   "cell_type": "markdown",
   "metadata": {},
   "source": [
    "## 杨辉三角"
   ]
  },
  {
   "cell_type": "code",
   "execution_count": 36,
   "metadata": {},
   "outputs": [
    {
     "name": "stdout",
     "output_type": "stream",
     "text": [
      "[1]\n",
      "[1, 1]\n",
      "[1, 2, 1]\n",
      "[1, 3, 3, 1]\n",
      "[1, 4, 6, 4, 1]\n",
      "[1, 4, 6, 4, 1]\n"
     ]
    }
   ],
   "source": [
    "from collections import deque\n",
    "\n",
    "def yanghui(k):\n",
    "    \"\"\"\n",
    "    :param k: 杨辉三角中第几层\n",
    "    :return: 第K层的系数\n",
    "    \"\"\"\n",
    "    queue = deque()\n",
    "    # 双层循环，第一层循环需计算层数； 第二层循环计算具体数值\n",
    "    for _ in range(k):\n",
    "        tmp0 = 0\n",
    "        for _ in range(len(queue)):\n",
    "            tmp1 = queue.popleft()\n",
    "            queue.append(tmp1+tmp0)\n",
    "            tmp0 = tmp1\n",
    "        queue.append(1)\n",
    "        print(list(queue))\n",
    "    return list(queue)\n",
    "        \n",
    "\n",
    "print(yanghui(5))\n",
    "    "
   ]
  },
  {
   "cell_type": "code",
   "execution_count": 45,
   "metadata": {},
   "outputs": [
    {
     "name": "stdout",
     "output_type": "stream",
     "text": [
      "[1, 4, 6, 4, 1]\n"
     ]
    }
   ],
   "source": [
    "from collections import deque\n",
    "\n",
    "def yanghui(k):\n",
    "    \"\"\"\n",
    "    :param k: 杨辉三角中第几层\n",
    "    :return: 第K层的系数\n",
    "    \"\"\"\n",
    "    q = deque([1]) # 创建一个队列，默认从1开始\n",
    "    if k > 1:\n",
    "        for i in range(k-1): # 迭代要查找的层数\n",
    "            for _ in range(i): # 循环需要出队多少次\n",
    "                q.append(q.popleft() + q[0]) # 第一个数加上队列中第二个数并赋值到队列末尾\n",
    "            q.append(1) # 每次查找结束后都需要在队列最右边添加个1\n",
    "    return list(q)\n",
    "result = yanghui(5)\n",
    "print(result)"
   ]
  },
  {
   "cell_type": "markdown",
   "metadata": {},
   "source": [
    "## 划分无冲突子集"
   ]
  },
  {
   "cell_type": "markdown",
   "metadata": {},
   "source": [
    "### 题目\n",
    "\n",
    "某动物园搬家，要运走N种动物，老虎与狮子放在一起会大家，大象与犀牛放在一个笼子会打架，野猪和野狗放在一个笼子里会打架，现在需要我们设计一个算法，使得装进同一个笼子的动物互相不打架。\n",
    "\n",
    "### 思路\n",
    "\n",
    "- 把所有动物按次序入队\n",
    "- 创建一个笼子(集合)，出队一个动物，如果和笼子内动物无冲冲突则添加到该笼子，有冲突则添加到队尾，等待进入新笼子\n",
    "- 由于队列先进先出的特性，如果当前出队动物的index不大于前一个出队动物的index，说明当前队列中所有动物已经尝试过进入且进入不了当前笼子，此时创建信的笼子(集合)"
   ]
  },
  {
   "cell_type": "code",
   "execution_count": 52,
   "metadata": {},
   "outputs": [
    {
     "name": "stdout",
     "output_type": "stream",
     "text": [
      "[[0, 1, 0, 0, 0, 1, 0, 0, 0],\n",
      " [1, 0, 0, 0, 1, 1, 0, 1, 1],\n",
      " [0, 0, 0, 0, 0, 1, 1, 0, 0],\n",
      " [0, 0, 0, 0, 1, 0, 0, 0, 1],\n",
      " [0, 1, 0, 1, 0, 0, 1, 0, 1],\n",
      " [1, 1, 1, 0, 0, 0, 1, 0, 0],\n",
      " [0, 0, 1, 0, 1, 1, 0, 0, 0],\n",
      " [0, 1, 0, 0, 0, 0, 0, 0, 0],\n",
      " [0, 1, 0, 1, 1, 0, 0, 0, 0]]\n",
      "[[0, 2, 3, 7], [1, 6], [4, 5], [8]]\n"
     ]
    }
   ],
   "source": [
    "from collections import deque\n",
    "from pprint import pprint\n",
    "\n",
    "def division(m, n):\n",
    "    \"\"\"\n",
    "    :param m: 冲突关系矩阵\n",
    "    :param n: 几种动物\n",
    "    :return: 返回一个栈，栈内包含了所有的笼子\n",
    "    \"\"\"\n",
    "    res = [] # 创建一个栈\n",
    "    q = deque(range(n)) # 初始化队列，里面放着动物的序号\n",
    "    pre = n # 前一个动物的下标，初始化时符合创建笼子条件\n",
    "    while q:\n",
    "        cur = q.popleft()\n",
    "        if pre >= cur: # 是否需要创建笼子，\n",
    "            res.append([]) # 创建一个笼子\n",
    "        # 迭代栈中最顶层的笼子, 查看笼子里个动物和当前动物之间是否有冲突\n",
    "        for a in res[-1]: \n",
    "            if m[cur][a]:  # 发现某个动物有冲突\n",
    "                q.append(cur) # 重新放入队列的尾部\n",
    "                break # 不用确认笼子里的下一个动物\n",
    "        else: # 当前动物和当前笼子中的所有动物没冲突\n",
    "            res[-1].append(cur) # 当前动物放入最上面的笼子中\n",
    "        pre = cur # 当前变成之前的\n",
    "    return res\n",
    "\n",
    "N = 9\n",
    "R = { # 冲突对应关系表\n",
    " (1, 4), (4, 8), (1, 8), (1, 7),\n",
    " (8, 3), (1, 0), (0, 5), (1, 5),\n",
    " (3, 4), (5, 6), (5, 2), (6, 2), (6, 4),\n",
    "}\n",
    "M = [[0] * N for _ in range(N)] # 冲洗关系矩阵M，0代表不冲突\n",
    "for i, j in R:\n",
    "    M[i][j] = M[j][i] = 1 # 1代表冲突\n",
    "pprint(M)\n",
    "result = division(M, N)\n",
    "print(result)"
   ]
  },
  {
   "cell_type": "markdown",
   "metadata": {},
   "source": [
    "## 数字变换"
   ]
  },
  {
   "cell_type": "markdown",
   "metadata": {},
   "source": [
    "对于一对正整数a,b,对a只能进行加1，减1，乘2操作，问最少对a进行几次操作能得到b？\n",
    "\n",
    "例如：\n",
    "- a=3,b=11: 可以通过3*2*2-1，3次操作得到11；\n",
    "- a=5,b=8：可以通过(5-1)*2，2次操作得到8；\n",
    "\n",
    "思路\n",
    "\n",
    "本题用广度优先搜索，寻找a到b状态迁移最短路径，对于每个状态s，可以转换到撞到s+1,s-1,s*2:\n",
    "\n",
    "- 把初始化状态a入队；\n",
    "\n",
    "- 出队一个状态s，然后s+1,s-1,s*2入队；\n",
    "\n",
    "- 反复循环第二步骤，直到状态s为b；"
   ]
  },
  {
   "cell_type": "code",
   "execution_count": 65,
   "metadata": {},
   "outputs": [
    {
     "name": "stdout",
     "output_type": "stream",
     "text": [
      "deque([(3, 0)])\n",
      "{3}\n",
      "deque([[4, 1], [6, 1]])\n",
      "{3, 4, 6}\n",
      "deque([[6, 1], [5, 2], [8, 2]])\n",
      "{3, 4, 5, 6, 8}\n",
      "deque([[5, 2], [8, 2], [7, 2], [12, 2]])\n",
      "{3, 4, 5, 6, 7, 8, 12}\n",
      "deque([[8, 2], [7, 2], [12, 2], [10, 3]])\n",
      "{3, 4, 5, 6, 7, 8, 10, 12}\n",
      "deque([[7, 2], [12, 2], [10, 3], [9, 3], [16, 3]])\n",
      "{3, 4, 5, 6, 7, 8, 9, 10, 12, 16}\n",
      "deque([[12, 2], [10, 3], [9, 3], [16, 3], [14, 3]])\n",
      "{3, 4, 5, 6, 7, 8, 9, 10, 12, 14, 16}\n",
      "deque([[10, 3], [9, 3], [16, 3], [14, 3], [11, 3]])\n",
      "{3, 4, 5, 6, 7, 8, 9, 10, 11, 12, 14, 16}\n",
      "3\n"
     ]
    }
   ],
   "source": [
    "from collections import deque\n",
    "\n",
    "def atob(a, b):\n",
    "    \"\"\"\n",
    "    :param a: 开始的数字\n",
    "    :param b: 最终转换之后的数字\n",
    "    :return: 最小匹配的次数\n",
    "    \"\"\"\n",
    "    q = deque([(a,0)]) # a=当前数字，0=操作的次数； 需要双嵌套 iterable\n",
    "    checked = {a} # 已经检查过的数据\n",
    "    while True:\n",
    "        print(q)\n",
    "        print(checked)\n",
    "        s, c = q.popleft()\n",
    "        # 如果结果已经出现在 checked中，说明最新添加的数据中有答案\n",
    "        # 次数一样，所以返回结果可以查找 q 的最右项次数\n",
    "        if b in checked:\n",
    "            break \n",
    "        if s < b:\n",
    "            if s+1 not in checked:\n",
    "                q.append([s+1, c+1])\n",
    "                checked.add(s+1)\n",
    "            if s*2 not in checked:\n",
    "                q.append([s*2, c+1])\n",
    "                checked.add(s*2)\n",
    "        if s > b:\n",
    "            if s-1 not in checked:\n",
    "                q.append([s-1, c+1])\n",
    "                checked.add(s-1)\n",
    "                \n",
    "    return q.pop()[-1]\n",
    "\n",
    "result = atob(3, 11)\n",
    "print(result)\n",
    "            "
   ]
  },
  {
   "cell_type": "code",
   "execution_count": null,
   "metadata": {
    "collapsed": true
   },
   "outputs": [],
   "source": []
  }
 ],
 "metadata": {
  "kernelspec": {
   "display_name": "Python 3",
   "language": "python",
   "name": "python3"
  },
  "language_info": {
   "codemirror_mode": {
    "name": "ipython",
    "version": 3
   },
   "file_extension": ".py",
   "mimetype": "text/x-python",
   "name": "python",
   "nbconvert_exporter": "python",
   "pygments_lexer": "ipython3",
   "version": "3.6.2"
  }
 },
 "nbformat": 4,
 "nbformat_minor": 2
}
