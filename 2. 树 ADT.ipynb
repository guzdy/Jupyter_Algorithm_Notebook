{
 "cells": [
  {
   "cell_type": "markdown",
   "metadata": {},
   "source": [
    "# 树"
   ]
  },
  {
   "cell_type": "markdown",
   "metadata": {},
   "source": [
    "## 二叉树实现"
   ]
  },
  {
   "cell_type": "code",
   "execution_count": 1,
   "metadata": {
    "collapsed": true
   },
   "outputs": [],
   "source": [
    "class binaryTree(object): \n",
    "    def __init__(self, value): \n",
    "        self.value = value \n",
    "        self.leftBranch = None \n",
    "        self.rightBranch = None \n",
    "        self.parent = None \n",
    "    def setLeftBranch(self, node): \n",
    "        self.leftBranch = node \n",
    "    def setRightBranch(self, node): \n",
    "        self.rightBranch = node \n",
    "    def setParent(self, parent): \n",
    "        self.parent = parent # and other methods\n",
    "\n",
    "    def getValue(self): \n",
    "        return self.value \n",
    "    def getLeftBranch(self): \n",
    "        return self.leftBranch \n",
    "    def getRightBranch(self): \n",
    "        return self.rightBranch \n",
    "    def getParent(self): \n",
    "        return self.parent \n",
    "    def __str__(self): \n",
    "        return self.value"
   ]
  },
  {
   "cell_type": "code",
   "execution_count": 2,
   "metadata": {
    "collapsed": true
   },
   "outputs": [],
   "source": [
    "# Depth first search for containment\n",
    "def DFSBinary(root, fcn):\n",
    "    stack= [root]\n",
    "    while len(stack) > 0:\n",
    "        if fcn(stack[0]):\n",
    "            return True\n",
    "        else:\n",
    "            temp = stack.pop(0)\n",
    "        if temp.getRightBranch():\n",
    "            stack.insert(0,temp.getRightBranch())\n",
    "        if temp.getLeftBranch():\n",
    "            stack.insert(0,temp.getLeftBranch())\n",
    "    return False"
   ]
  },
  {
   "cell_type": "code",
   "execution_count": 5,
   "metadata": {},
   "outputs": [],
   "source": [
    "# Breadth first search\n",
    "def BFSBinary(root, fcn):\n",
    "    queue = [root]\n",
    "    while len(queue) > 0:\n",
    "        if fcn(queue[0]):\n",
    "            return True\n",
    "        else:\n",
    "            temp = queue.pop(0)\n",
    "        if temp.getLeftBranch():\n",
    "            queue.append(temp.getLeftBranch())\n",
    "        if temp.getRightBranch():\n",
    "            queue.append(temp.getRightBranch())\n",
    "    return False"
   ]
  },
  {
   "cell_type": "code",
   "execution_count": 4,
   "metadata": {
    "collapsed": true
   },
   "outputs": [],
   "source": [
    "#Depth first search for path\n",
    "def DFSBinaryPath(root, fcn):\n",
    "    stack= [root]\n",
    "    while len(stack) > 0:\n",
    "        if fcn(stack[0]):\n",
    "            return TracePath(stack[0])\n",
    "        else:\n",
    "            temp = stack.pop(0)\n",
    "        if temp.getRightBranch():\n",
    "            stack.insert(0, temp.getRightBranch())\n",
    "        if temp.getLeftBranch():\n",
    "            stack.insert(0, temp.getLeftBranch())\n",
    "    return False\n",
    "\n",
    "def TracePath(node):\n",
    "    if not node.getParent():\n",
    "        return [node]\n",
    "    else:\n",
    "        return [node] + TracePath(node.getParent())"
   ]
  },
  {
   "cell_type": "code",
   "execution_count": 6,
   "metadata": {
    "collapsed": true
   },
   "outputs": [],
   "source": [
    "# Depth first ordered search\n",
    "def DFSBinaryOrdered(root, fcn, ltFcn):\n",
    "    stack= [root]\n",
    "    while len(stack) > 0:\n",
    "        if fcn(stack[0]):\n",
    "            return True\n",
    "        elif ltFcn(stack[0]):\n",
    "            temp = stack.pop(0)\n",
    "            if temp.getLeftBranch():\n",
    "                stack.insert(0,temp.getLeftBranch())\n",
    "        else:\n",
    "            if temp.getRightBranch():\n",
    "                stack.insert(0,temp.getRightBranch())\n",
    "    return False"
   ]
  },
  {
   "cell_type": "code",
   "execution_count": null,
   "metadata": {
    "collapsed": true
   },
   "outputs": [],
   "source": []
  }
 ],
 "metadata": {
  "kernelspec": {
   "display_name": "Python 3",
   "language": "python",
   "name": "python3"
  },
  "language_info": {
   "codemirror_mode": {
    "name": "ipython",
    "version": 3
   },
   "file_extension": ".py",
   "mimetype": "text/x-python",
   "name": "python",
   "nbconvert_exporter": "python",
   "pygments_lexer": "ipython3",
   "version": "3.6.2"
  }
 },
 "nbformat": 4,
 "nbformat_minor": 2
}
